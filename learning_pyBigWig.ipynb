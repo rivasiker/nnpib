{
 "cells": [
  {
   "cell_type": "markdown",
   "metadata": {},
   "source": [
    "## pyBigWig"
   ]
  },
  {
   "cell_type": "markdown",
   "metadata": {},
   "source": [
    "We can import the package using:"
   ]
  },
  {
   "cell_type": "code",
   "execution_count": 1,
   "metadata": {
    "scrolled": true
   },
   "outputs": [],
   "source": [
    "import pyBigWig"
   ]
  },
  {
   "cell_type": "markdown",
   "metadata": {},
   "source": [
    "Now we are ready to play around with pyBigWig! We can open a BigWig file using:"
   ]
  },
  {
   "cell_type": "code",
   "execution_count": 2,
   "metadata": {},
   "outputs": [],
   "source": [
    "bw = pyBigWig.open(\"/home/iker/GenomeDK/nnPib2019/data/training_data/C14M18.bigwig\")"
   ]
  },
  {
   "cell_type": "markdown",
   "metadata": {},
   "source": [
    "Let's first check is `bw` is really a BigWig file:"
   ]
  },
  {
   "cell_type": "code",
   "execution_count": 3,
   "metadata": {},
   "outputs": [
    {
     "data": {
      "text/plain": [
       "True"
      ]
     },
     "execution_count": 3,
     "metadata": {},
     "output_type": "execute_result"
    }
   ],
   "source": [
    "bw.isBigWig()"
   ]
  },
  {
   "cell_type": "markdown",
   "metadata": {},
   "source": [
    "It is! Now, we can look at the different chromosomes in the file:"
   ]
  },
  {
   "cell_type": "code",
   "execution_count": 4,
   "metadata": {},
   "outputs": [
    {
     "data": {
      "text/plain": [
       "{'chr1': 248956422,\n",
       " 'chr10': 133797422,\n",
       " 'chr11': 135086622,\n",
       " 'chr11_KI270721v1_random': 100316,\n",
       " 'chr12': 133275309,\n",
       " 'chr13': 114364328,\n",
       " 'chr14': 107043718,\n",
       " 'chr14_GL000009v2_random': 201709,\n",
       " 'chr14_GL000194v1_random': 191469,\n",
       " 'chr14_GL000225v1_random': 211173,\n",
       " 'chr14_KI270722v1_random': 194050,\n",
       " 'chr14_KI270723v1_random': 38115,\n",
       " 'chr14_KI270724v1_random': 39555,\n",
       " 'chr14_KI270725v1_random': 172810,\n",
       " 'chr14_KI270726v1_random': 43739,\n",
       " 'chr15': 101991189,\n",
       " 'chr15_KI270727v1_random': 448248,\n",
       " 'chr16': 90338345,\n",
       " 'chr16_KI270728v1_random': 1872759,\n",
       " 'chr17': 83257441,\n",
       " 'chr17_GL000205v2_random': 185591,\n",
       " 'chr17_KI270729v1_random': 280839,\n",
       " 'chr17_KI270730v1_random': 112551,\n",
       " 'chr18': 80373285,\n",
       " 'chr19': 58617616,\n",
       " 'chr1_KI270706v1_random': 175055,\n",
       " 'chr1_KI270708v1_random': 127682,\n",
       " 'chr1_KI270709v1_random': 66860,\n",
       " 'chr1_KI270711v1_random': 42210,\n",
       " 'chr1_KI270712v1_random': 176043,\n",
       " 'chr1_KI270713v1_random': 40745,\n",
       " 'chr1_KI270714v1_random': 41717,\n",
       " 'chr2': 242193529,\n",
       " 'chr20': 64444167,\n",
       " 'chr21': 46709983,\n",
       " 'chr22': 50818468,\n",
       " 'chr22_KI270731v1_random': 150754,\n",
       " 'chr22_KI270732v1_random': 41543,\n",
       " 'chr22_KI270733v1_random': 179772,\n",
       " 'chr22_KI270734v1_random': 165050,\n",
       " 'chr22_KI270735v1_random': 42811,\n",
       " 'chr22_KI270736v1_random': 181920,\n",
       " 'chr22_KI270737v1_random': 103838,\n",
       " 'chr22_KI270738v1_random': 99375,\n",
       " 'chr22_KI270739v1_random': 73985,\n",
       " 'chr2_KI270716v1_random': 153799,\n",
       " 'chr3': 198295559,\n",
       " 'chr3_GL000221v1_random': 155397,\n",
       " 'chr4': 190214555,\n",
       " 'chr4_GL000008v2_random': 209709,\n",
       " 'chr5': 181538259,\n",
       " 'chr5_GL000208v1_random': 92689,\n",
       " 'chr6': 170805979,\n",
       " 'chr7': 159345973,\n",
       " 'chr8': 145138636,\n",
       " 'chr9': 138394717,\n",
       " 'chr9_KI270717v1_random': 40062,\n",
       " 'chr9_KI270718v1_random': 38054,\n",
       " 'chr9_KI270719v1_random': 176845,\n",
       " 'chr9_KI270720v1_random': 39050,\n",
       " 'chrUn_GL000195v1': 182896,\n",
       " 'chrUn_GL000214v1': 137718,\n",
       " 'chrUn_GL000216v2': 176608,\n",
       " 'chrUn_GL000218v1': 161147,\n",
       " 'chrUn_GL000219v1': 179198,\n",
       " 'chrUn_GL000220v1': 161802,\n",
       " 'chrUn_GL000224v1': 179693,\n",
       " 'chrUn_KI270310v1': 1201,\n",
       " 'chrUn_KI270333v1': 2699,\n",
       " 'chrUn_KI270336v1': 1026,\n",
       " 'chrUn_KI270337v1': 1121,\n",
       " 'chrUn_KI270414v1': 2489,\n",
       " 'chrUn_KI270417v1': 2043,\n",
       " 'chrUn_KI270429v1': 1361,\n",
       " 'chrUn_KI270435v1': 92983,\n",
       " 'chrUn_KI270438v1': 112505,\n",
       " 'chrUn_KI270442v1': 392061,\n",
       " 'chrUn_KI270448v1': 7992,\n",
       " 'chrUn_KI270465v1': 1774,\n",
       " 'chrUn_KI270466v1': 1233,\n",
       " 'chrUn_KI270467v1': 3920,\n",
       " 'chrUn_KI270468v1': 4055,\n",
       " 'chrUn_KI270507v1': 5353,\n",
       " 'chrUn_KI270508v1': 1951,\n",
       " 'chrUn_KI270509v1': 2318,\n",
       " 'chrUn_KI270510v1': 2415,\n",
       " 'chrUn_KI270511v1': 8127,\n",
       " 'chrUn_KI270512v1': 22689,\n",
       " 'chrUn_KI270515v1': 6361,\n",
       " 'chrUn_KI270516v1': 1300,\n",
       " 'chrUn_KI270517v1': 3253,\n",
       " 'chrUn_KI270518v1': 2186,\n",
       " 'chrUn_KI270519v1': 138126,\n",
       " 'chrUn_KI270521v1': 7642,\n",
       " 'chrUn_KI270522v1': 5674,\n",
       " 'chrUn_KI270538v1': 91309,\n",
       " 'chrUn_KI270583v1': 1400,\n",
       " 'chrUn_KI270584v1': 4513,\n",
       " 'chrUn_KI270587v1': 2969,\n",
       " 'chrUn_KI270588v1': 6158,\n",
       " 'chrUn_KI270589v1': 44474,\n",
       " 'chrUn_KI270590v1': 4685,\n",
       " 'chrUn_KI270591v1': 5796,\n",
       " 'chrUn_KI270593v1': 3041,\n",
       " 'chrUn_KI270741v1': 157432,\n",
       " 'chrUn_KI270742v1': 186739,\n",
       " 'chrUn_KI270743v1': 210658,\n",
       " 'chrUn_KI270744v1': 168472,\n",
       " 'chrUn_KI270746v1': 66486,\n",
       " 'chrUn_KI270747v1': 198735,\n",
       " 'chrUn_KI270748v1': 93321,\n",
       " 'chrUn_KI270749v1': 158759,\n",
       " 'chrUn_KI270750v1': 148850,\n",
       " 'chrUn_KI270751v1': 150742,\n",
       " 'chrUn_KI270752v1': 27745,\n",
       " 'chrUn_KI270753v1': 62944,\n",
       " 'chrUn_KI270754v1': 40191,\n",
       " 'chrUn_KI270756v1': 79590,\n",
       " 'chrUn_KI270757v1': 71251,\n",
       " 'chrX': 156040895,\n",
       " 'chrY': 57227415}"
      ]
     },
     "execution_count": 4,
     "metadata": {},
     "output_type": "execute_result"
    }
   ],
   "source": [
    "bw.chroms()"
   ]
  },
  {
   "cell_type": "markdown",
   "metadata": {},
   "source": [
    "If we want to know the length of a single chromosome we can use:"
   ]
  },
  {
   "cell_type": "code",
   "execution_count": 5,
   "metadata": {},
   "outputs": [
    {
     "data": {
      "text/plain": [
       "50818468"
      ]
     },
     "execution_count": 5,
     "metadata": {},
     "output_type": "execute_result"
    }
   ],
   "source": [
    "bw.chroms(\"chr22\")"
   ]
  },
  {
   "cell_type": "markdown",
   "metadata": {},
   "source": [
    "We can also check the header of the BigWig file:"
   ]
  },
  {
   "cell_type": "code",
   "execution_count": 6,
   "metadata": {
    "scrolled": true
   },
   "outputs": [
    {
     "data": {
      "text/plain": [
       "{'version': 4,\n",
       " 'nLevels': 10,\n",
       " 'nBasesCovered': 3095449528,\n",
       " 'minVal': 0,\n",
       " 'maxVal': 36,\n",
       " 'sumData': 1122619497,\n",
       " 'sumSquared': 1773530499}"
      ]
     },
     "execution_count": 6,
     "metadata": {},
     "output_type": "execute_result"
    }
   ],
   "source": [
    "bw.header()"
   ]
  },
  {
   "cell_type": "markdown",
   "metadata": {},
   "source": [
    "We can begin exploring our file. First, we can consult individual values by using:"
   ]
  },
  {
   "cell_type": "code",
   "execution_count": 7,
   "metadata": {},
   "outputs": [
    {
     "data": {
      "text/plain": [
       "[0.17124000191688538, 0.17124000191688538, 0.17124000191688538]"
      ]
     },
     "execution_count": 7,
     "metadata": {},
     "output_type": "execute_result"
    }
   ],
   "source": [
    "bw.values(\"chr22\", 0, 3)"
   ]
  },
  {
   "cell_type": "markdown",
   "metadata": {},
   "source": [
    "This gives us the first three values of chromosome 22. Instead, we might be interested in knowing the intervals, because some values might be repeated over a range."
   ]
  },
  {
   "cell_type": "code",
   "execution_count": 8,
   "metadata": {},
   "outputs": [
    {
     "data": {
      "text/plain": [
       "((0, 10711304, 0.17124000191688538),\n",
       " (10711304, 10711373, 0.983299970626831),\n",
       " (10711373, 10712279, 0.17124000191688538),\n",
       " (10712279, 10712324, 0.07452999800443649))"
      ]
     },
     "execution_count": 8,
     "metadata": {},
     "output_type": "execute_result"
    }
   ],
   "source": [
    "bw.intervals(\"chr22\", 0, 10712324)"
   ]
  },
  {
   "cell_type": "markdown",
   "metadata": {},
   "source": [
    "The avobe code retrieves the intervals between the beginning of the chromosome up until position 10712324. If we want to include one more interval, we could try typing:"
   ]
  },
  {
   "cell_type": "code",
   "execution_count": 9,
   "metadata": {},
   "outputs": [
    {
     "data": {
      "text/plain": [
       "((0, 10711304, 0.17124000191688538),\n",
       " (10711304, 10711373, 0.983299970626831),\n",
       " (10711373, 10712279, 0.17124000191688538),\n",
       " (10712279, 10712324, 0.07452999800443649),\n",
       " (10712324, 10712428, 0.04546000063419342))"
      ]
     },
     "execution_count": 9,
     "metadata": {},
     "output_type": "execute_result"
    }
   ],
   "source": [
    "bw.intervals(\"chr22\", 0, 10712325)"
   ]
  },
  {
   "cell_type": "markdown",
   "metadata": {},
   "source": [
    "Many times we are interested in calculating the average over a range of values. For example:"
   ]
  },
  {
   "cell_type": "code",
   "execution_count": 10,
   "metadata": {},
   "outputs": [
    {
     "data": {
      "text/plain": [
       "[0.17137697442745817]"
      ]
     },
     "execution_count": 10,
     "metadata": {},
     "output_type": "execute_result"
    }
   ],
   "source": [
    "bw.stats(\"chr22\", 0, 10712324)"
   ]
  },
  {
   "cell_type": "markdown",
   "metadata": {},
   "source": [
    "We can also compute the maximum values over a range of values by using:"
   ]
  },
  {
   "cell_type": "code",
   "execution_count": 11,
   "metadata": {},
   "outputs": [
    {
     "data": {
      "text/plain": [
       "[0.983299970626831]"
      ]
     },
     "execution_count": 11,
     "metadata": {},
     "output_type": "execute_result"
    }
   ],
   "source": [
    "bw.stats(\"chr22\", 10711304, 10712324, type='max')"
   ]
  },
  {
   "cell_type": "code",
   "execution_count": 12,
   "metadata": {},
   "outputs": [],
   "source": [
    "lst = []\n",
    "\n",
    "for i in bw.intervals(\"chr22\"):\n",
    "    lst.append(i[1] - i[0])"
   ]
  },
  {
   "cell_type": "code",
   "execution_count": 13,
   "metadata": {},
   "outputs": [],
   "source": [
    "# bw.close()"
   ]
  },
  {
   "cell_type": "code",
   "execution_count": 14,
   "metadata": {},
   "outputs": [
    {
     "data": {
      "text/plain": [
       "1088622"
      ]
     },
     "execution_count": 14,
     "metadata": {},
     "output_type": "execute_result"
    }
   ],
   "source": [
    "len(lst)"
   ]
  },
  {
   "cell_type": "code",
   "execution_count": 15,
   "metadata": {
    "scrolled": false
   },
   "outputs": [
    {
     "data": {
      "text/plain": [
       "[10711304, 69, 906, 45, 104, 23, 11, 1159, 132, 31]"
      ]
     },
     "execution_count": 15,
     "metadata": {},
     "output_type": "execute_result"
    }
   ],
   "source": [
    "lst[0:10]"
   ]
  },
  {
   "cell_type": "markdown",
   "metadata": {},
   "source": [
    "## Pyfasta"
   ]
  },
  {
   "cell_type": "markdown",
   "metadata": {},
   "source": [
    "This other package can be use to easily and efficiently access entries on a FASTA-encoded genome:"
   ]
  },
  {
   "cell_type": "code",
   "execution_count": 16,
   "metadata": {},
   "outputs": [],
   "source": [
    "from pyfasta import Fasta"
   ]
  },
  {
   "cell_type": "markdown",
   "metadata": {},
   "source": [
    "This command loads the FASTA file into Python (it takes roughly 30 minutes in my computer). The `key_fn` argument ensures to keep only the chromosome name, and not additional info:"
   ]
  },
  {
   "cell_type": "code",
   "execution_count": 17,
   "metadata": {
    "scrolled": true
   },
   "outputs": [],
   "source": [
    "f = Fasta('/home/iker/GenomeDK/nnPib2019/data/GRCh38_no_alt_analysis_set_GCA_000001405.15.fasta', key_fn=lambda key: key.split()[0])\n"
   ]
  },
  {
   "cell_type": "markdown",
   "metadata": {},
   "source": [
    "We can see the keys of the FASTA file by using the following line:"
   ]
  },
  {
   "cell_type": "code",
   "execution_count": 18,
   "metadata": {
    "scrolled": false
   },
   "outputs": [
    {
     "data": {
      "text/plain": [
       "['chr1',\n",
       " 'chr10',\n",
       " 'chr11',\n",
       " 'chr11_KI270721v1_random',\n",
       " 'chr12',\n",
       " 'chr13',\n",
       " 'chr14',\n",
       " 'chr14_GL000009v2_random',\n",
       " 'chr14_GL000194v1_random',\n",
       " 'chr14_GL000225v1_random']"
      ]
     },
     "execution_count": 18,
     "metadata": {},
     "output_type": "execute_result"
    }
   ],
   "source": [
    "sorted(f.keys())[0:10]"
   ]
  },
  {
   "cell_type": "markdown",
   "metadata": {},
   "source": [
    "We can access specific intervals of the FASTA file by specifying the name of the chromosome and the interval:"
   ]
  },
  {
   "cell_type": "code",
   "execution_count": 19,
   "metadata": {
    "scrolled": true
   },
   "outputs": [
    {
     "data": {
      "text/plain": [
       "'GGAGGATCAC'"
      ]
     },
     "execution_count": 19,
     "metadata": {},
     "output_type": "execute_result"
    }
   ],
   "source": [
    "f['chr1'][1100023:1100033]"
   ]
  },
  {
   "cell_type": "markdown",
   "metadata": {},
   "source": [
    "## Handling the data"
   ]
  },
  {
   "cell_type": "code",
   "execution_count": 20,
   "metadata": {
    "scrolled": true
   },
   "outputs": [],
   "source": [
    "import numpy as np\n",
    "import pandas as pd\n",
    "import itertools\n",
    "from matplotlib import pyplot as plt\n",
    "from tqdm import tqdm"
   ]
  },
  {
   "cell_type": "markdown",
   "metadata": {},
   "source": [
    "We are interested in coding the nucleotides in the one-hot encoding. To do so, we can use `one_hot`. Note that missing values are encoded as all zeroes."
   ]
  },
  {
   "cell_type": "code",
   "execution_count": 21,
   "metadata": {},
   "outputs": [],
   "source": [
    "def one_hot(obs):\n",
    "    '''Transforms a DNA sequence into the one-hot encoding.\n",
    "    \n",
    "    obs is a character string containing DNA nucleotides (A, C, G or T) or missing values (N). \n",
    "    It returns a single list containing one-hot encoded nucleotides.\n",
    "    Note that missing values (N) are encoded as all zeroes.\n",
    "    \n",
    "    '''\n",
    "    mapping = {'A': [1,0,0,0], \n",
    "               'C': [0,1,0,0], \n",
    "               'G': [0,0,1,0], \n",
    "               'T': [0,0,0,1], \n",
    "               'N': [0,0,0,0]}\n",
    "    try:\n",
    "        return list(itertools.chain.from_iterable([mapping[symbol.upper()] for symbol in obs]))\n",
    "    except:\n",
    "        print('Invalid DNA sequence')"
   ]
  },
  {
   "cell_type": "code",
   "execution_count": 22,
   "metadata": {},
   "outputs": [
    {
     "data": {
      "text/plain": [
       "[0,\n",
       " 0,\n",
       " 1,\n",
       " 0,\n",
       " 0,\n",
       " 0,\n",
       " 1,\n",
       " 0,\n",
       " 1,\n",
       " 0,\n",
       " 0,\n",
       " 0,\n",
       " 0,\n",
       " 0,\n",
       " 1,\n",
       " 0,\n",
       " 0,\n",
       " 0,\n",
       " 1,\n",
       " 0,\n",
       " 1,\n",
       " 0,\n",
       " 0,\n",
       " 0,\n",
       " 0,\n",
       " 0,\n",
       " 0,\n",
       " 1,\n",
       " 0,\n",
       " 1,\n",
       " 0,\n",
       " 0,\n",
       " 1,\n",
       " 0,\n",
       " 0,\n",
       " 0,\n",
       " 0,\n",
       " 1,\n",
       " 0,\n",
       " 0]"
      ]
     },
     "execution_count": 22,
     "metadata": {},
     "output_type": "execute_result"
    }
   ],
   "source": [
    "one_hot(f['chr1'][1100023:1100033])"
   ]
  },
  {
   "cell_type": "code",
   "execution_count": 23,
   "metadata": {},
   "outputs": [],
   "source": [
    "def slicing(bw, f, interval, chrom):\n",
    "    dct = {'start': [], 'end':[], 'mean':[]}\n",
    "    for i in range(interval, bw.chroms(chrom), interval):\n",
    "        dct['start'].append(i-interval)\n",
    "        dct['end'].append(i-1)\n",
    "        dct['mean'].append(bw.stats(chrom, i-interval, i-1)[0])\n",
    "    return pd.DataFrame.from_dict(dct)"
   ]
  },
  {
   "cell_type": "code",
   "execution_count": 24,
   "metadata": {},
   "outputs": [],
   "source": [
    "data = slicing(bw, f, 1000, 'chr22')"
   ]
  },
  {
   "cell_type": "code",
   "execution_count": 25,
   "metadata": {},
   "outputs": [
    {
     "data": {
      "text/plain": [
       "(50818, 3)"
      ]
     },
     "execution_count": 25,
     "metadata": {},
     "output_type": "execute_result"
    }
   ],
   "source": [
    "data.shape"
   ]
  },
  {
   "cell_type": "code",
   "execution_count": 26,
   "metadata": {},
   "outputs": [
    {
     "data": {
      "text/html": [
       "<div>\n",
       "<style scoped>\n",
       "    .dataframe tbody tr th:only-of-type {\n",
       "        vertical-align: middle;\n",
       "    }\n",
       "\n",
       "    .dataframe tbody tr th {\n",
       "        vertical-align: top;\n",
       "    }\n",
       "\n",
       "    .dataframe thead th {\n",
       "        text-align: right;\n",
       "    }\n",
       "</style>\n",
       "<table border=\"1\" class=\"dataframe\">\n",
       "  <thead>\n",
       "    <tr style=\"text-align: right;\">\n",
       "      <th></th>\n",
       "      <th>start</th>\n",
       "      <th>end</th>\n",
       "      <th>mean</th>\n",
       "    </tr>\n",
       "  </thead>\n",
       "  <tbody>\n",
       "    <tr>\n",
       "      <td>0</td>\n",
       "      <td>0</td>\n",
       "      <td>999</td>\n",
       "      <td>0.17124</td>\n",
       "    </tr>\n",
       "    <tr>\n",
       "      <td>1</td>\n",
       "      <td>1000</td>\n",
       "      <td>1999</td>\n",
       "      <td>0.17124</td>\n",
       "    </tr>\n",
       "    <tr>\n",
       "      <td>2</td>\n",
       "      <td>2000</td>\n",
       "      <td>2999</td>\n",
       "      <td>0.17124</td>\n",
       "    </tr>\n",
       "    <tr>\n",
       "      <td>3</td>\n",
       "      <td>3000</td>\n",
       "      <td>3999</td>\n",
       "      <td>0.17124</td>\n",
       "    </tr>\n",
       "    <tr>\n",
       "      <td>4</td>\n",
       "      <td>4000</td>\n",
       "      <td>4999</td>\n",
       "      <td>0.17124</td>\n",
       "    </tr>\n",
       "  </tbody>\n",
       "</table>\n",
       "</div>"
      ],
      "text/plain": [
       "   start   end     mean\n",
       "0      0   999  0.17124\n",
       "1   1000  1999  0.17124\n",
       "2   2000  2999  0.17124\n",
       "3   3000  3999  0.17124\n",
       "4   4000  4999  0.17124"
      ]
     },
     "execution_count": 26,
     "metadata": {},
     "output_type": "execute_result"
    }
   ],
   "source": [
    "data.head()"
   ]
  },
  {
   "cell_type": "code",
   "execution_count": null,
   "metadata": {},
   "outputs": [],
   "source": []
  },
  {
   "cell_type": "code",
   "execution_count": 27,
   "metadata": {},
   "outputs": [
    {
     "data": {
      "text/plain": [
       "[0.17124000191688538]"
      ]
     },
     "execution_count": 27,
     "metadata": {},
     "output_type": "execute_result"
    }
   ],
   "source": [
    "bw.values(\"chr22\", 0, 1)"
   ]
  },
  {
   "cell_type": "code",
   "execution_count": 28,
   "metadata": {
    "scrolled": false
   },
   "outputs": [
    {
     "data": {
      "text/plain": [
       "'G'"
      ]
     },
     "execution_count": 28,
     "metadata": {},
     "output_type": "execute_result"
    }
   ],
   "source": [
    "f['chr1'][1100023]"
   ]
  },
  {
   "cell_type": "code",
   "execution_count": 29,
   "metadata": {},
   "outputs": [
    {
     "name": "stderr",
     "output_type": "stream",
     "text": [
      "100%|██████████| 50818468/50818468 [02:38<00:00, 321521.80it/s]\n"
     ]
    }
   ],
   "source": [
    "index = [f['chr22'][i] != 'N' for i in tqdm(range(bw.chroms(\"chr22\")))]"
   ]
  },
  {
   "cell_type": "code",
   "execution_count": 30,
   "metadata": {
    "scrolled": true
   },
   "outputs": [],
   "source": [
    "data = bw.values(\"chr22\", 0, bw.chroms(\"chr22\"))"
   ]
  },
  {
   "cell_type": "code",
   "execution_count": 36,
   "metadata": {},
   "outputs": [
    {
     "data": {
      "text/plain": [
       "[False, False, False, False, False, False, False, False, False, False]"
      ]
     },
     "execution_count": 36,
     "metadata": {},
     "output_type": "execute_result"
    }
   ],
   "source": [
    "index[0:10]"
   ]
  },
  {
   "cell_type": "code",
   "execution_count": 38,
   "metadata": {},
   "outputs": [],
   "source": [
    "import csv"
   ]
  },
  {
   "cell_type": "code",
   "execution_count": 39,
   "metadata": {},
   "outputs": [
    {
     "ename": "KeyboardInterrupt",
     "evalue": "",
     "output_type": "error",
     "traceback": [
      "\u001b[0;31m---------------------------------------------------------------------------\u001b[0m",
      "\u001b[0;31mKeyboardInterrupt\u001b[0m                         Traceback (most recent call last)",
      "\u001b[0;32m<ipython-input-39-6dd9cd714159>\u001b[0m in \u001b[0;36m<module>\u001b[0;34m\u001b[0m\n\u001b[1;32m      1\u001b[0m \u001b[0;32mwith\u001b[0m \u001b[0mopen\u001b[0m\u001b[0;34m(\u001b[0m\u001b[0;34m'chr22.csv'\u001b[0m\u001b[0;34m,\u001b[0m \u001b[0;34m'w'\u001b[0m\u001b[0;34m)\u001b[0m \u001b[0;32mas\u001b[0m \u001b[0mf\u001b[0m\u001b[0;34m:\u001b[0m\u001b[0;34m\u001b[0m\u001b[0;34m\u001b[0m\u001b[0m\n\u001b[1;32m      2\u001b[0m     \u001b[0mwriter\u001b[0m \u001b[0;34m=\u001b[0m \u001b[0mcsv\u001b[0m\u001b[0;34m.\u001b[0m\u001b[0mwriter\u001b[0m\u001b[0;34m(\u001b[0m\u001b[0mf\u001b[0m\u001b[0;34m)\u001b[0m\u001b[0;34m\u001b[0m\u001b[0;34m\u001b[0m\u001b[0m\n\u001b[0;32m----> 3\u001b[0;31m     \u001b[0mwriter\u001b[0m\u001b[0;34m.\u001b[0m\u001b[0mwriterows\u001b[0m\u001b[0;34m(\u001b[0m\u001b[0mzip\u001b[0m\u001b[0;34m(\u001b[0m\u001b[0mdata\u001b[0m\u001b[0;34m,\u001b[0m \u001b[0mindex\u001b[0m\u001b[0;34m)\u001b[0m\u001b[0;34m)\u001b[0m\u001b[0;34m\u001b[0m\u001b[0;34m\u001b[0m\u001b[0m\n\u001b[0m",
      "\u001b[0;31mKeyboardInterrupt\u001b[0m: "
     ]
    }
   ],
   "source": [
    "with open('chr22.csv', 'w') as f:\n",
    "    writer = csv.writer(f)\n",
    "    writer.writerows(zip(data, index))"
   ]
  },
  {
   "cell_type": "code",
   "execution_count": 33,
   "metadata": {},
   "outputs": [
    {
     "data": {
      "image/png": "[encoded data removed]",
      "text/plain": [
       "<Figure size 432x288 with 1 Axes>"
      ]
     },
     "metadata": {
      "needs_background": "light"
     },
     "output_type": "display_data"
    }
   ],
   "source": [
    "# fixed bin size\n",
    "plt.hist(data, bins=100, alpha=0.5)\n",
    "\n",
    "plt.show()"
   ]
  },
  {
   "cell_type": "code",
   "execution_count": null,
   "metadata": {},
   "outputs": [],
   "source": []
  }
 ],
 "metadata": {
  "kernelspec": {
   "display_name": "Python 3",
   "language": "python",
   "name": "python3"
  },
  "language_info": {
   "codemirror_mode": {
    "name": "ipython",
    "version": 3
   },
   "file_extension": ".py",
   "mimetype": "text/x-python",
   "name": "python",
   "nbconvert_exporter": "python",
   "pygments_lexer": "ipython3",
   "version": "3.7.4"
  }
 },
 "nbformat": 4,
 "nbformat_minor": 2
}
